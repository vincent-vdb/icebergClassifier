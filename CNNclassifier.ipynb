{
 "cells": [
  {
   "cell_type": "code",
   "execution_count": 1,
   "metadata": {},
   "outputs": [
    {
     "name": "stderr",
     "output_type": "stream",
     "text": [
      "Using TensorFlow backend.\n"
     ]
    }
   ],
   "source": [
    "import numpy as np\n",
    "import pandas as pd\n",
    "import matplotlib.pyplot as plt\n",
    "\n",
    "from keras.models import Sequential\n",
    "from keras.layers import Dense\n",
    "from keras.layers import Input, Conv2D, MaxPooling2D, Dense, Flatten, Activation, BatchNormalization\n",
    "from keras.models import Model\n",
    "from keras import regularizers\n",
    "\n",
    "\n",
    "from sklearn.model_selection import train_test_split\n",
    "from sklearn import preprocessing"
   ]
  },
  {
   "cell_type": "code",
   "execution_count": 2,
   "metadata": {},
   "outputs": [],
   "source": [
    "train = pd.read_json(\"train/processed/train.json\")\n",
    "test = pd.read_json(\"test/processed/test.json\")"
   ]
  },
  {
   "cell_type": "code",
   "execution_count": 3,
   "metadata": {},
   "outputs": [
    {
     "data": {
      "text/html": [
       "<div>\n",
       "<table border=\"1\" class=\"dataframe\">\n",
       "  <thead>\n",
       "    <tr style=\"text-align: right;\">\n",
       "      <th></th>\n",
       "      <th>band_1</th>\n",
       "      <th>band_2</th>\n",
       "      <th>id</th>\n",
       "      <th>inc_angle</th>\n",
       "      <th>is_iceberg</th>\n",
       "    </tr>\n",
       "  </thead>\n",
       "  <tbody>\n",
       "    <tr>\n",
       "      <th>0</th>\n",
       "      <td>[-27.878361, -27.15416, -28.668615, -29.537971...</td>\n",
       "      <td>[-27.154118, -29.537888, -31.0306, -32.190483,...</td>\n",
       "      <td>dfd5f913</td>\n",
       "      <td>43.9239</td>\n",
       "      <td>0</td>\n",
       "    </tr>\n",
       "    <tr>\n",
       "      <th>1</th>\n",
       "      <td>[-12.242375, -14.920305, -14.920363, -12.66633...</td>\n",
       "      <td>[-31.506321, -27.984554, -26.645678, -23.76760...</td>\n",
       "      <td>e25388fd</td>\n",
       "      <td>38.1562</td>\n",
       "      <td>0</td>\n",
       "    </tr>\n",
       "    <tr>\n",
       "      <th>2</th>\n",
       "      <td>[-24.603676, -24.603714, -24.871029, -23.15277...</td>\n",
       "      <td>[-24.870956, -24.092632, -20.653963, -19.41104...</td>\n",
       "      <td>58b2aaa0</td>\n",
       "      <td>45.2859</td>\n",
       "      <td>1</td>\n",
       "    </tr>\n",
       "    <tr>\n",
       "      <th>3</th>\n",
       "      <td>[-22.454607, -23.082819, -23.998013, -23.99805...</td>\n",
       "      <td>[-27.889421, -27.519794, -27.165262, -29.10350...</td>\n",
       "      <td>4cfc3a18</td>\n",
       "      <td>43.8306</td>\n",
       "      <td>0</td>\n",
       "    </tr>\n",
       "    <tr>\n",
       "      <th>4</th>\n",
       "      <td>[-26.006956, -23.164886, -23.164886, -26.89116...</td>\n",
       "      <td>[-27.206915, -30.259186, -30.259186, -23.16495...</td>\n",
       "      <td>271f93f4</td>\n",
       "      <td>35.6256</td>\n",
       "      <td>0</td>\n",
       "    </tr>\n",
       "  </tbody>\n",
       "</table>\n",
       "</div>"
      ],
      "text/plain": [
       "                                              band_1  \\\n",
       "0  [-27.878361, -27.15416, -28.668615, -29.537971...   \n",
       "1  [-12.242375, -14.920305, -14.920363, -12.66633...   \n",
       "2  [-24.603676, -24.603714, -24.871029, -23.15277...   \n",
       "3  [-22.454607, -23.082819, -23.998013, -23.99805...   \n",
       "4  [-26.006956, -23.164886, -23.164886, -26.89116...   \n",
       "\n",
       "                                              band_2        id inc_angle  \\\n",
       "0  [-27.154118, -29.537888, -31.0306, -32.190483,...  dfd5f913   43.9239   \n",
       "1  [-31.506321, -27.984554, -26.645678, -23.76760...  e25388fd   38.1562   \n",
       "2  [-24.870956, -24.092632, -20.653963, -19.41104...  58b2aaa0   45.2859   \n",
       "3  [-27.889421, -27.519794, -27.165262, -29.10350...  4cfc3a18   43.8306   \n",
       "4  [-27.206915, -30.259186, -30.259186, -23.16495...  271f93f4   35.6256   \n",
       "\n",
       "   is_iceberg  \n",
       "0           0  \n",
       "1           0  \n",
       "2           1  \n",
       "3           0  \n",
       "4           0  "
      ]
     },
     "execution_count": 3,
     "metadata": {},
     "output_type": "execute_result"
    }
   ],
   "source": [
    "train[:5]"
   ]
  },
  {
   "cell_type": "code",
   "execution_count": 4,
   "metadata": {},
   "outputs": [
    {
     "data": {
      "text/plain": [
       "(1604, 5)"
      ]
     },
     "execution_count": 4,
     "metadata": {},
     "output_type": "execute_result"
    }
   ],
   "source": [
    "train.shape"
   ]
  },
  {
   "cell_type": "code",
   "execution_count": 5,
   "metadata": {
    "collapsed": true
   },
   "outputs": [],
   "source": [
    "X_band_1=np.array([np.array(band).astype(np.float32).reshape(75, 75) for band in train[\"band_1\"]])\n",
    "X_band_2=np.array([np.array(band).astype(np.float32).reshape(75, 75) for band in train[\"band_2\"]])\n",
    "\n",
    "X_band_1_verticalFlip = np.zeros(X_band_1.shape)\n",
    "X_band_1_horizontalFlip = np.zeros(X_band_1.shape)\n",
    "X_band_1_bothFlip = np.zeros(X_band_1.shape)\n",
    "X_band_2_verticalFlip = np.zeros(X_band_2.shape)\n",
    "X_band_2_horizontalFlip = np.zeros(X_band_2.shape)\n",
    "X_band_2_bothFlip = np.zeros(X_band_2.shape)\n",
    "\n",
    "\n",
    "for imageIndex in range(X_band_1.shape[0]):\n",
    "    for i in range(X_band_1.shape[1]):\n",
    "        for j in range(X_band_1.shape[2]):\n",
    "            X_band_1_horizontalFlip[imageIndex][i][j] = X_band_1[imageIndex][X_band_1.shape[1]-i-1][j]\n",
    "            X_band_1_verticalFlip[imageIndex][i][j] = X_band_1[imageIndex][i][X_band_1.shape[2]-j-1]\n",
    "            X_band_1_bothFlip[imageIndex][i][j] = X_band_1[imageIndex][X_band_1.shape[1]-i-1][X_band_1.shape[2]-j-1]\n",
    "\n",
    "            X_band_2_horizontalFlip[imageIndex][i][j] = X_band_2[imageIndex][X_band_2.shape[1]-i-1][j]\n",
    "            X_band_2_verticalFlip[imageIndex][i][j] = X_band_2[imageIndex][i][X_band_2.shape[2]-j-1]\n",
    "            X_band_2_bothFlip[imageIndex][i][j] = X_band_2[imageIndex][X_band_2.shape[1]-i-1][X_band_2.shape[2]-j-1]\n",
    "\n",
    "\n"
   ]
  },
  {
   "cell_type": "code",
   "execution_count": 6,
   "metadata": {},
   "outputs": [
    {
     "name": "stdout",
     "output_type": "stream",
     "text": [
      "(6416, 75, 75)\n",
      "X_train shape: (6416, 75, 75, 2)\n",
      "Y_train shape: (6416, 1)\n"
     ]
    }
   ],
   "source": [
    "X_train_1 = np.concatenate((X_band_1, X_band_1_horizontalFlip, X_band_1_verticalFlip, X_band_1_bothFlip), axis=0)\n",
    "X_train_2 = np.concatenate((X_band_2, X_band_2_horizontalFlip, X_band_2_verticalFlip, X_band_2_bothFlip), axis=0)\n",
    "\n",
    "print(X_train_1.shape)\n",
    "\n",
    "X_train_1 = X_train_1.reshape(X_train_1.shape[0], X_train_1.shape[1], X_train_1.shape[2], 1)\n",
    "X_train_2 = X_train_2.reshape(X_train_2.shape[0], X_train_2.shape[1], X_train_2.shape[2], 1)\n",
    "\n",
    "\n",
    "Y_train = train['is_iceberg']\n",
    "Y_train = np.concatenate((Y_train, Y_train, Y_train, Y_train), axis=0)\n",
    "Y_train = Y_train.reshape(Y_train.shape[0], 1)\n",
    "\n",
    "#X_train = np.concatenate([X_band_1[:, :, :, np.newaxis], X_band_2[:, :, :, np.newaxis],((X_band_1+X_band_2)/2)[:, :, :, np.newaxis]], axis=-1)\n",
    "#X_train = X_band_1.reshape(X_band_1.shape[0], X_band_1.shape[1],X_band_1.shape[2], 1)\n",
    "\n",
    "\n",
    "X_train = np.concatenate((X_train_1, X_train_2), axis=3)\n",
    "\n",
    "print (\"X_train shape: \" + str(X_train.shape))\n",
    "print (\"Y_train shape: \" + str(Y_train.shape))"
   ]
  },
  {
   "cell_type": "code",
   "execution_count": 7,
   "metadata": {},
   "outputs": [
    {
     "name": "stdout",
     "output_type": "stream",
     "text": [
      "34.5749168396\n",
      "-45.6554985046\n",
      "[[[[-4.79511521 -5.69421129]]]]\n",
      "[[[[ 10.61958639  13.68714628]]]]\n",
      "[[[[ -3.25626943e-14   4.05125631e-15]]]]\n",
      "[[[[ 1.  1.]]]]\n"
     ]
    }
   ],
   "source": [
    "print(np.max(X_train))\n",
    "print(np.min(X_train))\n",
    "\n",
    "#X_train = preprocessing.scale(X_train[:,:,:,:])\n",
    "\n",
    "X_train = (X_train-X_train.mean(axis=(0, 1, 2), keepdims=True))/X_train.std(axis=(0, 1, 2), keepdims=True)\n",
    "\n",
    "\n",
    "print(X_train.min(axis=(0, 1, 2), keepdims=True))\n",
    "print(X_train.max(axis=(0, 1, 2), keepdims=True))\n",
    "print(X_train.mean(axis=(0, 1, 2), keepdims=True))\n",
    "print(X_train.var(axis=(0, 1, 2), keepdims=True))\n"
   ]
  },
  {
   "cell_type": "code",
   "execution_count": 8,
   "metadata": {
    "scrolled": true
   },
   "outputs": [],
   "source": [
    "plt.imshow(X_band_1[1])\n",
    "plt.show()"
   ]
  },
  {
   "cell_type": "code",
   "execution_count": 33,
   "metadata": {
    "collapsed": true
   },
   "outputs": [],
   "source": [
    "def model(input_shape):\n",
    "    # Define the input placeholder as a tensor with shape input_shape. Think of this as your input image!\n",
    "    X_input = Input(input_shape)\n",
    "\n",
    "    # Zero-Padding: pads the border of X_input with zeroes\n",
    "#    X = ZeroPadding2D((3, 3))(X_input)\n",
    "\n",
    "    # CONV -> BN -> RELU Block applied to X\n",
    "    X = Conv2D(32, (3, 3), strides = (1, 1), name = 'conv0', kernel_regularizer=regularizers.l2(0.01))(X_input)\n",
    "    X = BatchNormalization(axis = 3, name = 'bn0')(X)\n",
    "    X = Activation('relu')(X)\n",
    "\n",
    "    # MAXPOOL\n",
    "    X = MaxPooling2D((2, 2), name='max_pool0')(X)\n",
    "\n",
    "    \n",
    "    # CONV -> BN -> RELU Block applied to X\n",
    "    X = Conv2D(64, (3, 3), strides = (1, 1), name = 'conv1', kernel_regularizer=regularizers.l2(0.01))(X)\n",
    "    X = BatchNormalization(axis = 3, name = 'bn1')(X)\n",
    "    X = Activation('relu')(X)\n",
    "\n",
    "    # MAXPOOL\n",
    "    X = MaxPooling2D((2, 2), name='max_pool1')(X)\n",
    "\n",
    "\n",
    "    # CONV -> BN -> RELU Block applied to X\n",
    "    X = Conv2D(128, (3, 3), strides = (1, 1), name = 'conv2', kernel_regularizer=regularizers.l2(0.01))(X)\n",
    "    X = BatchNormalization(axis = 3, name = 'bn2')(X)\n",
    "    X = Activation('relu')(X)\n",
    "\n",
    "    # MAXPOOL\n",
    "    X = MaxPooling2D((2, 2), name='max_pool2')(X)\n",
    "\n",
    "    \n",
    "    \n",
    "    # FLATTEN X (means convert it to a vector) + FULLYCONNECTED\n",
    "    X = Flatten()(X)\n",
    "    X = Dense(256, activation='relu', name='fc0', kernel_regularizer=regularizers.l2(0.01))(X)\n",
    "\n",
    "    # FULLYCONNECTED\n",
    "    X = Dense(128, activation='relu', name='fc1', kernel_regularizer=regularizers.l2(0.01))(X)\n",
    "    \n",
    "    X = Dense(1, activation='sigmoid', name='fc2', kernel_regularizer=regularizers.l2(0.01))(X)\n",
    "\n",
    "    # Create model. This creates your Keras model instance, you'll use this instance to train/test the model.\n",
    "    model = Model(inputs = X_input, outputs = X, name='model1')\n",
    "\n",
    "    return model"
   ]
  },
  {
   "cell_type": "code",
   "execution_count": 10,
   "metadata": {},
   "outputs": [
    {
     "name": "stderr",
     "output_type": "stream",
     "text": [
      "/usr/lib64/python2.7/site-packages/sklearn/model_selection/_split.py:2010: FutureWarning: From version 0.21, test_size will always complement train_size unless both are specified.\n",
      "  FutureWarning)\n"
     ]
    }
   ],
   "source": [
    "X_train_cv, X_valid, Y_train_cv, Y_valid = train_test_split(X_train, Y_train, random_state=1, train_size=0.80)"
   ]
  },
  {
   "cell_type": "code",
   "execution_count": 34,
   "metadata": {
    "collapsed": true
   },
   "outputs": [],
   "source": [
    "myModel = model(X_train.shape[1:])"
   ]
  },
  {
   "cell_type": "code",
   "execution_count": 35,
   "metadata": {
    "collapsed": true
   },
   "outputs": [],
   "source": [
    "myModel.compile(optimizer=\"adam\", loss=\"binary_crossentropy\", metrics = [\"accuracy\"])"
   ]
  },
  {
   "cell_type": "code",
   "execution_count": 36,
   "metadata": {},
   "outputs": [
    {
     "name": "stdout",
     "output_type": "stream",
     "text": [
      "Epoch 1/10\n",
      "6416/6416 [==============================] - 74s 12ms/step - loss: 3.5018 - acc: 0.6901\n",
      "Epoch 2/10\n",
      "6416/6416 [==============================] - 76s 12ms/step - loss: 1.0065 - acc: 0.8320\n",
      "Epoch 3/10\n",
      "6416/6416 [==============================] - 76s 12ms/step - loss: 0.6974 - acc: 0.8526\n",
      "Epoch 4/10\n",
      "6416/6416 [==============================] - 77s 12ms/step - loss: 0.5814 - acc: 0.8664\n",
      "Epoch 5/10\n",
      "6416/6416 [==============================] - 79s 12ms/step - loss: 0.5467 - acc: 0.8671\n",
      "Epoch 6/10\n",
      "6416/6416 [==============================] - 80s 12ms/step - loss: 0.4651 - acc: 0.8847\n",
      "Epoch 7/10\n",
      "6416/6416 [==============================] - 85s 13ms/step - loss: 0.4352 - acc: 0.8873\n",
      "Epoch 8/10\n",
      "6416/6416 [==============================] - 84s 13ms/step - loss: 0.4193 - acc: 0.8898\n",
      "Epoch 9/10\n",
      "6416/6416 [==============================] - 81s 13ms/step - loss: 0.3973 - acc: 0.8926\n",
      "Epoch 10/10\n",
      "6416/6416 [==============================] - 80s 12ms/step - loss: 0.3730 - acc: 0.9007\n"
     ]
    },
    {
     "data": {
      "text/plain": [
       "<keras.callbacks.History at 0xf2273d50>"
      ]
     },
     "execution_count": 36,
     "metadata": {},
     "output_type": "execute_result"
    }
   ],
   "source": [
    "myModel.fit(x=X_train, y=Y_train, epochs = 10, batch_size=32)"
   ]
  },
  {
   "cell_type": "code",
   "execution_count": 14,
   "metadata": {},
   "outputs": [
    {
     "name": "stdout",
     "output_type": "stream",
     "text": [
      "321/321 [==============================] - 3s 8ms/step\n",
      "()\n",
      "Loss = 0.503228102425\n",
      "Test Accuracy = 0.884735202492\n"
     ]
    }
   ],
   "source": [
    "pred = myModel.evaluate(x = X_valid, y = Y_valid)\n",
    "### END CODE HERE ###\n",
    "print()\n",
    "print (\"Loss = \" + str(pred[0]))\n",
    "print (\"Test Accuracy = \" + str(pred[1]))"
   ]
  },
  {
   "cell_type": "code",
   "execution_count": 58,
   "metadata": {},
   "outputs": [],
   "source": [
    "X_band_test_1=np.array([np.array(band).astype(np.float32).reshape(75, 75) for band in test[\"band_1\"]])\n",
    "X_band_test_2=np.array([np.array(band).astype(np.float32).reshape(75, 75) for band in test[\"band_2\"]])\n",
    "\n",
    "\n",
    "X_band_test_1 = X_band_test_1.reshape(X_band_test_1.shape[0], X_band_test_1.shape[1], X_band_test_1.shape[2], 1)\n",
    "X_band_test_2 = X_band_test_2.reshape(X_band_test_2.shape[0], X_band_test_2.shape[1], X_band_test_2.shape[2], 1)\n",
    "\n",
    "X_test = np.concatenate((X_band_test_1, X_band_test_1), axis=3)\n",
    "\n",
    "X_test = (X_test-X_test.mean(axis=(0, 1, 2), keepdims=True))/X_test.std(axis=(0, 1, 2), keepdims=True)\n",
    "\n",
    "\n",
    "\n"
   ]
  },
  {
   "cell_type": "code",
   "execution_count": 59,
   "metadata": {},
   "outputs": [
    {
     "data": {
      "text/plain": [
       "(8424, 75, 75, 2)"
      ]
     },
     "execution_count": 59,
     "metadata": {},
     "output_type": "execute_result"
    }
   ],
   "source": [
    "X_test.shape"
   ]
  },
  {
   "cell_type": "code",
   "execution_count": 60,
   "metadata": {},
   "outputs": [],
   "source": [
    "predicted_test=myModel.predict(X_test)"
   ]
  },
  {
   "cell_type": "code",
   "execution_count": 64,
   "metadata": {},
   "outputs": [
    {
     "data": {
      "text/plain": [
       "0.12510498"
      ]
     },
     "execution_count": 64,
     "metadata": {},
     "output_type": "execute_result"
    }
   ],
   "source": [
    "predicted_test.min()"
   ]
  },
  {
   "cell_type": "code",
   "execution_count": 65,
   "metadata": {},
   "outputs": [
    {
     "data": {
      "text/html": [
       "<div>\n",
       "<table border=\"1\" class=\"dataframe\">\n",
       "  <thead>\n",
       "    <tr style=\"text-align: right;\">\n",
       "      <th></th>\n",
       "      <th>id</th>\n",
       "      <th>is_iceberg</th>\n",
       "    </tr>\n",
       "  </thead>\n",
       "  <tbody>\n",
       "    <tr>\n",
       "      <th>0</th>\n",
       "      <td>5941774d</td>\n",
       "      <td>0.690263</td>\n",
       "    </tr>\n",
       "    <tr>\n",
       "      <th>1</th>\n",
       "      <td>4023181e</td>\n",
       "      <td>0.737007</td>\n",
       "    </tr>\n",
       "    <tr>\n",
       "      <th>2</th>\n",
       "      <td>b20200e4</td>\n",
       "      <td>0.963845</td>\n",
       "    </tr>\n",
       "    <tr>\n",
       "      <th>3</th>\n",
       "      <td>e7f018bb</td>\n",
       "      <td>0.784766</td>\n",
       "    </tr>\n",
       "    <tr>\n",
       "      <th>4</th>\n",
       "      <td>4371c8c3</td>\n",
       "      <td>0.785187</td>\n",
       "    </tr>\n",
       "    <tr>\n",
       "      <th>5</th>\n",
       "      <td>a8d9b1fd</td>\n",
       "      <td>0.866759</td>\n",
       "    </tr>\n",
       "    <tr>\n",
       "      <th>6</th>\n",
       "      <td>29e7727e</td>\n",
       "      <td>0.789102</td>\n",
       "    </tr>\n",
       "    <tr>\n",
       "      <th>7</th>\n",
       "      <td>92a51ffb</td>\n",
       "      <td>0.954982</td>\n",
       "    </tr>\n",
       "    <tr>\n",
       "      <th>8</th>\n",
       "      <td>c769ac97</td>\n",
       "      <td>0.996468</td>\n",
       "    </tr>\n",
       "    <tr>\n",
       "      <th>9</th>\n",
       "      <td>aee0547d</td>\n",
       "      <td>0.990639</td>\n",
       "    </tr>\n",
       "  </tbody>\n",
       "</table>\n",
       "</div>"
      ],
      "text/plain": [
       "         id  is_iceberg\n",
       "0  5941774d    0.690263\n",
       "1  4023181e    0.737007\n",
       "2  b20200e4    0.963845\n",
       "3  e7f018bb    0.784766\n",
       "4  4371c8c3    0.785187\n",
       "5  a8d9b1fd    0.866759\n",
       "6  29e7727e    0.789102\n",
       "7  92a51ffb    0.954982\n",
       "8  c769ac97    0.996468\n",
       "9  aee0547d    0.990639"
      ]
     },
     "execution_count": 65,
     "metadata": {},
     "output_type": "execute_result"
    }
   ],
   "source": [
    "submission = pd.DataFrame({'id': test[\"id\"], 'is_iceberg': predicted_test.reshape((predicted_test.shape[0]))})\n",
    "submission.head(10)"
   ]
  },
  {
   "cell_type": "code",
   "execution_count": 66,
   "metadata": {
    "collapsed": true
   },
   "outputs": [],
   "source": [
    "submission.to_csv(\"./submission.csv\", index=False)"
   ]
  },
  {
   "cell_type": "code",
   "execution_count": null,
   "metadata": {
    "collapsed": true
   },
   "outputs": [],
   "source": []
  }
 ],
 "metadata": {
  "kernelspec": {
   "display_name": "Python 2",
   "language": "python",
   "name": "python2"
  },
  "language_info": {
   "codemirror_mode": {
    "name": "ipython",
    "version": 2
   },
   "file_extension": ".py",
   "mimetype": "text/x-python",
   "name": "python",
   "nbconvert_exporter": "python",
   "pygments_lexer": "ipython2",
   "version": "2.7.5"
  }
 },
 "nbformat": 4,
 "nbformat_minor": 2
}
